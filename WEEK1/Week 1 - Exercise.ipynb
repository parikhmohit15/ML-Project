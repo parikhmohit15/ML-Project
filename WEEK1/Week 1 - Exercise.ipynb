{
 "cells": [
  {
   "cell_type": "markdown",
   "metadata": {},
   "source": [
    "# Week 1 - Exercise\n",
    "### Notebook created by Jonathan Penava"
   ]
  },
  {
   "cell_type": "markdown",
   "metadata": {},
   "source": [
    "For this exercise you are going to write a function that makes change for amounts less than one dollar. Input must be a positive integer up to 100, representing an amount of money, in cents. Output must be the original amount of money together with a set of coins (quarters, dimes, nickels) that could make up the amount. The function must produce change containing the minimum number of coins required to produce the given amount. Remember that the penny is no longer in production, so you must round the value up or down accordingly.  The output must be reasonable and non-stilted. For example, the input of 54 should produce results such as: \n",
    "        54 cents requires 2 quarters, 1 nickel\n",
    "rather than\n",
    "        54 cents requires 2 quarters, 0 dimes, 1 nickels\n",
    "\n",
    "Provide some message if values do not produce output.\n"
   ]
  },
  {
   "cell_type": "code",
   "execution_count": 1,
   "metadata": {},
   "outputs": [
    {
     "data": {
      "text/plain": [
       "'60 cents requires 2 quarters, 1 dime'"
      ]
     },
     "execution_count": 1,
     "metadata": {},
     "output_type": "execute_result"
    }
   ],
   "source": [
    "def makechange(amount):\n",
    "    original = amount\n",
    "    quarters = 0\n",
    "    dimes = 0\n",
    "    nickels = 0\n",
    "\n",
    "    # Rounding amount to the nearest multiple of 5\n",
    "    if amount % 5 != 0:\n",
    "        if amount % 5 < 3:\n",
    "            amount = amount - (amount % 5)\n",
    "        else:\n",
    "            amount = amount + (5 - amount % 5)\n",
    "\n",
    "    # Calculating quarters\n",
    "    quarters = amount // 25\n",
    "    amount = amount - (25 * quarters)\n",
    "\n",
    "    # Calculating dimes\n",
    "    if amount != 0:\n",
    "        dimes = amount // 10\n",
    "        amount = amount - (10 * dimes)\n",
    "\n",
    "    # Calculating nickels\n",
    "    if amount != 0:\n",
    "        nickels = amount // 5 \n",
    "\n",
    "    output = []\n",
    "    if quarters > 0:\n",
    "        output.append(f\"{quarters} quarter{'s' if quarters > 1 else ''}\")\n",
    "    if dimes > 0:\n",
    "        output.append(f\"{dimes} dime{'s' if dimes > 1 else ''}\")\n",
    "    if nickels > 0:\n",
    "        output.append(f\"{nickels} nickel{'s' if nickels > 1 else ''}\")\n",
    "            \n",
    "    if not output:\n",
    "        return \"I WILL KEEP THE CHANGE \"\n",
    "     \n",
    "    return f\"{original} cents requires \" + \", \".join(output)\n",
    "makechange(60)"
   ]
  },
  {
   "cell_type": "code",
   "execution_count": 6,
   "metadata": {},
   "outputs": [
    {
     "data": {
      "text/plain": [
       "'68 cents requires 2 quarters, 2 dimes'"
      ]
     },
     "execution_count": 6,
     "metadata": {},
     "output_type": "execute_result"
    }
   ],
   "source": [
    "makechange(68)"
   ]
  },
  {
   "cell_type": "code",
   "execution_count": 3,
   "metadata": {},
   "outputs": [
    {
     "data": {
      "text/plain": [
       "'54 cents requires 2 quarters, 1 nickel'"
      ]
     },
     "execution_count": 3,
     "metadata": {},
     "output_type": "execute_result"
    }
   ],
   "source": [
    "makechange(54)"
   ]
  },
  {
   "cell_type": "code",
   "execution_count": 4,
   "metadata": {},
   "outputs": [
    {
     "data": {
      "text/plain": [
       "'31 cents requires 1 quarter, 1 nickel'"
      ]
     },
     "execution_count": 4,
     "metadata": {},
     "output_type": "execute_result"
    }
   ],
   "source": [
    "makechange(31)"
   ]
  },
  {
   "cell_type": "code",
   "execution_count": 5,
   "metadata": {},
   "outputs": [
    {
     "data": {
      "text/plain": [
       "'18 cents requires 2 dimes'"
      ]
     },
     "execution_count": 5,
     "metadata": {},
     "output_type": "execute_result"
    }
   ],
   "source": [
    "makechange(18)"
   ]
  },
  {
   "cell_type": "code",
   "execution_count": 6,
   "metadata": {},
   "outputs": [
    {
     "data": {
      "text/plain": [
       "'82 cents requires 3 quarters, 1 nickel'"
      ]
     },
     "execution_count": 6,
     "metadata": {},
     "output_type": "execute_result"
    }
   ],
   "source": [
    "makechange(82)"
   ]
  },
  {
   "cell_type": "code",
   "execution_count": 7,
   "metadata": {},
   "outputs": [
    {
     "data": {
      "text/plain": [
       "'40 cents requires 1 quarter, 1 dime, 1 nickel'"
      ]
     },
     "execution_count": 7,
     "metadata": {},
     "output_type": "execute_result"
    }
   ],
   "source": [
    "makechange(40)"
   ]
  },
  {
   "cell_type": "code",
   "execution_count": 8,
   "metadata": {},
   "outputs": [
    {
     "data": {
      "text/plain": [
       "'Cannot make change.'"
      ]
     },
     "execution_count": 8,
     "metadata": {},
     "output_type": "execute_result"
    }
   ],
   "source": [
    "makechange(99)"
   ]
  },
  {
   "cell_type": "code",
   "execution_count": 9,
   "metadata": {},
   "outputs": [
    {
     "data": {
      "text/plain": [
       "'Cannot make change.'"
      ]
     },
     "execution_count": 9,
     "metadata": {},
     "output_type": "execute_result"
    }
   ],
   "source": [
    "makechange(-2)"
   ]
  }
 ],
 "metadata": {
  "kernelspec": {
   "display_name": "Python 3",
   "language": "python",
   "name": "python3"
  },
  "language_info": {
   "codemirror_mode": {
    "name": "ipython",
    "version": 3
   },
   "file_extension": ".py",
   "mimetype": "text/x-python",
   "name": "python",
   "nbconvert_exporter": "python",
   "pygments_lexer": "ipython3",
   "version": "3.12.4"
  },
  "orig_nbformat": 4
 },
 "nbformat": 4,
 "nbformat_minor": 2
}
