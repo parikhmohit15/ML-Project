{
 "cells": [
  {
   "cell_type": "markdown",
   "metadata": {},
   "source": [
    "# Week 5 - Decision Trees and Random Forests\n",
    "#### Part 1\n",
    "### Notebook created by Jonathan Penava\n",
    "By the end of this lesson you should know what a decision tree algorithm is, how it is constructed, and how to create a machine learning algorithm that uses decision trees."
   ]
  },
  {
   "cell_type": "markdown",
   "metadata": {},
   "source": [
    "## Overview\n",
    "- <span style=\"color:red;\">Data Mining vs Machine Learning</span>\n",
    "- Decision Trees in Detail\n",
    "- Decision Tree Example\n",
    "- Random Forests"
   ]
  },
  {
   "cell_type": "markdown",
   "metadata": {},
   "source": [
    "## Data Mining\n",
    "In data mining we examine data sets to identify patters and anomalies that exist within our data.  This can be useful for:\n",
    "<ul>\n",
    "<li>Classifying Data</li>\n",
    "<li>Identifying Associations</li>\n",
    "<li>Identifying Outliers</li>\n",
    "<li>Grouping Data</li>\n",
    "<li>Performing Regression Analysis</li>\n",
    "</ul>"
   ]
  },
  {
   "cell_type": "markdown",
   "metadata": {},
   "source": [
    "In Machine Learning, the purpose is to create an algorithm that will examine the data set and then attempt to make predictions based on its analysis of trained data.  <br><br>\n",
    "Let’s consider the idea of spam going to your email.  In data mining you might look at all the emails that are sent to your inbox.  Assume you analyze various data points of the emails sent.  You try to classify the emails based on their sender, you may group them according to your contacts, or perform any number of analysis on the email to determine if it is spam.<br><br>\n",
    "With machine learning, the goal is to train an algorithm to independently determine if a new message is spam.   You would train the algorithm on what is not spam, and what is spam by providing examples.  Once the algorithm is trained, it can be tested.\n",
    "<br><br>\n",
    "(source: https://www.discoverdatascience.org/articles/data-mining-vs-machine-learning/)"
   ]
  },
  {
   "cell_type": "markdown",
   "metadata": {},
   "source": [
    "## Decision Trees\n",
    "Decision Trees are a decision supported model based on Graph Theory trees.  Nodes contain a decision that is to be made, and a path to follow based on that decision.  <br>\n",
    "### Advantages\n",
    "<ul>\n",
    "<li>Simple to understand and interpret.</li>\n",
    "<li>Little data preparation is required.</li>\n",
    "<li>Can handle numerical and categorical data (The scikit-learn library currently doesn’t support categorical variables)</li>\n",
    "<li>Can handle multioutput problems.</li>\n",
    "<li>Uses white box modeling.</li>\n",
    "<li>Possible to validate with tests.</li>\n",
    "</ul><br>\n",
    "\n",
    "### Disadvantages\n",
    "<ul>\n",
    "<li>Can create overcomplex trees.</li>\n",
    "<li>Can be unstable with small variables of data.</li>\n",
    "<li>Predictions are not smooth or continuous, usually resulting in piecewise approximations.</li>\n",
    "<li>Some concepts are hard because decision trees do not express them well like XOR.</li>\n",
    "<li>Can be biased if some cases dominate.</li>\n",
    "</ul><br>\n",
    "(source: https://scikit-learn.org/stable/modules/tree.html )"
   ]
  }
 ],
 "metadata": {
  "language_info": {
   "name": "python"
  }
 },
 "nbformat": 4,
 "nbformat_minor": 2
}
