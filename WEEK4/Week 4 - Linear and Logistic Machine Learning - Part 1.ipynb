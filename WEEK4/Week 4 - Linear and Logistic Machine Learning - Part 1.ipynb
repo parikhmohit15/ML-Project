{
 "cells": [
  {
   "cell_type": "markdown",
   "metadata": {},
   "source": [
    "# Week 4 - Linear and Logistic Machine Learning\n",
    "#### Part 1\n",
    "### Notebook created by Jonathan Penava\n",
    "By the end of this lesson you should know the steps to building a machine learning algorithm and have practiced by using a linear and logistic ML algorithm."
   ]
  },
  {
   "cell_type": "markdown",
   "metadata": {},
   "source": [
    "## Overview\n",
    "- <span style=\"color:red;\">Steps to Machine Learning</span>\n",
    "- Linear Regression\n",
    "- Logistic Regression"
   ]
  },
  {
   "cell_type": "markdown",
   "metadata": {},
   "source": [
    "### 1. Collecting Data:<br>\n",
    "In this step we want to find the data that we are going to be using in our analysis.  There are many sources that already exist, and we have been introduced to some of them like https://www.kaggle.com. It is important to identify where your data is coming from.  If you are collecting your own data, ensure you follow proper ethical practices when collecting data.  The following link may be useful if you are interested in collecting your own data https://online.hbs.edu/blog/post/data-ethics."
   ]
  },
  {
   "cell_type": "markdown",
   "metadata": {},
   "source": [
    "### 2. Preparing the Data: <br>\n",
    "In this step we want to examine our data.  We try to identify any trends, correlations, or outliers that might exist that will help us decide what type of analysis we want to perform.  We idenify any records with missing values, any duplicate data that might exist, and any data that might be invalid to our analysis.  We make use of charts and graphs to break down our data and better understand what we are using."
   ]
  },
  {
   "cell_type": "markdown",
   "metadata": {},
   "source": [
    "### 3. Choosing a Model: <br>\n",
    "Once we have analyzed our data we want to choose an appropriate machine learning algorithm. <br>\n",
    "Types of ML Algorithms:<br>\n",
    "<p>\n",
    "\tUnsupervised ML Algorithms: This represents data clusters that are usually unlabeled.  This type of algorithm is used to find patterns in data that might not be easily detectable. (Source: https://www.ibm.com/topics/unsupervised-learning) \n",
    "\t\t<ul>\n",
    "\t\t<li>Clustering</li>\n",
    "\t\t<li>Nearest neighbors</li>\n",
    "\t\t<li>Anomaly detection</li>\n",
    "\t\t<li>Neural Networks</li>\n",
    "\t\t<li>Component Analysis</li>\n",
    "\t\t</ul>\n",
    "</p><p>\n",
    "\tSupervised ML Algorithms: This represents data sets that are labelled.  This is useful in measuring data trends, or classification of data.\n",
    "\t(Source: https://www.ibm.com/topics/supervised-learning)\n",
    "\t\t<ul>\n",
    "\t\t<li>Regression</li>\n",
    "\t\t<li>Classification</li>\n",
    "\t\t<li>Decision Trees</li>\n",
    "\t\t<li>Random Forests</li>\n",
    "\t\t</ul>\n",
    "</p><p>\n",
    "\tSemi-Supervised ML Algorithms: This represents data sets where some of the data is not labelled.  This unlabelled data can help an algorithm better predict the outcome of a specific data point. (Source: https://scikit-learn.org/stable/modules/semi_supervised.html)\n",
    "\t\t<ul>\n",
    "\t\t<li>Speech Recognition</li>\n",
    "\t\t<li>Web content or Text Document Classification</li>\n",
    "\t\t</ul>\n",
    "</p><p>\n",
    "\tReinforcement ML Algorithms: Deals with modelling data based on an action and reward.  Based on factors within the specified data environment, what incentives and rewards exist for a particular decision. (Source: https://www.v7labs.com/blog/deep-reinforcement-learning-guide)\n",
    "\t\t<ul>\n",
    "\t\t<li>Value-based learning</li>\n",
    "\t\t<li>Policy-based learning</li>\n",
    "\t\t<li>Model based learning</li>\n",
    "\t\t</ul>\n",
    "</p>\n"
   ]
  },
  {
   "cell_type": "markdown",
   "metadata": {},
   "source": [
    "### 4. Training the Model: <br>\n",
    "We want to break apart our data into a training and a testing set.  The training set will usually be about 70% of our data.  This is an average, where some sources will use more or less depending on the coders choice.  The more data you present the better the model is trained, however you do need a sufficient test set to test your model."
   ]
  },
  {
   "cell_type": "markdown",
   "metadata": {},
   "source": [
    "### 5. Evaluating the Model: <br>\n",
    "Once we have trained the model, we then want to test its accuracy.  Since we split our data in the previous set, we wan to use the remaining 30% of our data to test the accuracy of our model.  Ideally we would like a model to have an accuracy of between 70%-90%.  This range provides a realistic accuracy for any well trained model, and is considered to be the expectation of industry standards. (Source: https://www.obviously.ai/post/machine-learning-model-performance)"
   ]
  },
  {
   "cell_type": "markdown",
   "metadata": {},
   "source": [
    "### 6. Parameter Tuning: <br>\n",
    "Based on the previous 2 steps, we then want to decide if our model is accurate enough for us.  In the prevoius step we discussed an accuracy of 70%-90%.  If we are above this range we may have an issue with the data that is being selected, or we have a very strong data correlation.  If we are below that range we may need to examine the data that we are using to decide if there is a way of fine tuning the data we provide to the algorithm to better increase the accuracy.  This could include removing outliers, removing data that is less relavent, increasing the data pool, etc."
   ]
  },
  {
   "cell_type": "markdown",
   "metadata": {},
   "source": [
    "### 7. Making Predictions <br>\n",
    "Finally we want to make a prediction.  We went through the effort of creating a machine learning algorithm, now it is time to test it with a scenario.  Build a data point and use your algorithm to make a prediction on that data point.  "
   ]
  },
  {
   "cell_type": "markdown",
   "metadata": {},
   "source": [
    "Additional Resource: https://www.javatpoint.com/machine-learning-life-cycle"
   ]
  }
 ],
 "metadata": {
  "kernelspec": {
   "display_name": "base",
   "language": "python",
   "name": "python3"
  },
  "language_info": {
   "name": "python",
   "version": "3.12.4"
  },
  "orig_nbformat": 4
 },
 "nbformat": 4,
 "nbformat_minor": 2
}
